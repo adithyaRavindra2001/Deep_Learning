{
 "cells": [
  {
   "cell_type": "code",
   "execution_count": 40,
   "id": "e78043ac",
   "metadata": {},
   "outputs": [],
   "source": [
    "import numpy as np\n",
    "import pandas as pd\n",
    "import tensorflow as tf"
   ]
  },
  {
   "cell_type": "code",
   "execution_count": 50,
   "id": "f6045654",
   "metadata": {},
   "outputs": [
    {
     "data": {
      "text/plain": [
       "array([619, 'France', 'Female', 42, 2, 0.0, 1, 1, 1, 101348.88],\n",
       "      dtype=object)"
      ]
     },
     "execution_count": 50,
     "metadata": {},
     "output_type": "execute_result"
    }
   ],
   "source": [
    "data=pd.read_csv('Churn_Modelling.csv')\n",
    "X=data.iloc[:,3:-1].values\n",
    "y=data.iloc[:,-1].values\n",
    "X[0]"
   ]
  },
  {
   "cell_type": "code",
   "execution_count": 42,
   "id": "512ab677",
   "metadata": {},
   "outputs": [],
   "source": [
    "from sklearn.preprocessing import LabelEncoder\n",
    "le=LabelEncoder()\n",
    "X[:,2]=le.fit_transform(X[:,2])\n"
   ]
  },
  {
   "cell_type": "code",
   "execution_count": 49,
   "id": "498b19f6",
   "metadata": {},
   "outputs": [
    {
     "data": {
      "text/plain": [
       "array([1.0, 0.0, 1.0, 0.0, 619, 0, 42, 2, 0.0, 1, 1, 1, 101348.88],\n",
       "      dtype=object)"
      ]
     },
     "execution_count": 49,
     "metadata": {},
     "output_type": "execute_result"
    }
   ],
   "source": [
    "from sklearn.preprocessing import OneHotEncoder\n",
    "from sklearn.compose import ColumnTransformer\n",
    "ct=ColumnTransformer(transformers=[('encode',OneHotEncoder(),[1])],remainder='passthrough')\n",
    "X=np.array(ct.fit_transform(X))\n",
    "X[0]"
   ]
  },
  {
   "cell_type": "code",
   "execution_count": 44,
   "id": "79e54e0b",
   "metadata": {},
   "outputs": [],
   "source": [
    "from sklearn.model_selection import train_test_split\n",
    "Xtr,Xte,Ytr,Yte=train_test_split(X,y,random_state=0)\n"
   ]
  },
  {
   "cell_type": "code",
   "execution_count": 45,
   "id": "f0542fb8",
   "metadata": {},
   "outputs": [],
   "source": [
    "from sklearn.preprocessing import StandardScaler\n",
    "sc=StandardScaler()\n",
    "Xtr=sc.fit_transform(Xtr)\n",
    "Xte=sc.fit_transform(Xte)\n"
   ]
  },
  {
   "cell_type": "code",
   "execution_count": 59,
   "id": "63c562ef",
   "metadata": {},
   "outputs": [],
   "source": [
    "from tensorflow.keras.models import Sequential\n",
    "ann=Sequential()\n"
   ]
  },
  {
   "cell_type": "code",
   "execution_count": 60,
   "id": "9645e6ee",
   "metadata": {},
   "outputs": [],
   "source": [
    "ann.add(tf.keras.layers.Dense(units=6,activation='relu'))"
   ]
  },
  {
   "cell_type": "code",
   "execution_count": 61,
   "id": "ee6a0b15",
   "metadata": {},
   "outputs": [],
   "source": [
    "ann.add(tf.keras.layers.Dense(units=6,activation='relu'))"
   ]
  },
  {
   "cell_type": "code",
   "execution_count": 62,
   "id": "29bac8df",
   "metadata": {},
   "outputs": [],
   "source": [
    "ann.add(tf.keras.layers.Dense(units=1,activation='sigmoid'))"
   ]
  },
  {
   "cell_type": "code",
   "execution_count": 63,
   "id": "9d37e0e7",
   "metadata": {},
   "outputs": [],
   "source": [
    "ann.compile(optimizer='adam', loss='binary_crossentropy', metrics=['accuracy']) #binary_crossentropy because the output is 0, 1 else activation=soft_max, category_cossentropy"
   ]
  },
  {
   "cell_type": "code",
   "execution_count": 64,
   "id": "29121166",
   "metadata": {},
   "outputs": [
    {
     "name": "stdout",
     "output_type": "stream",
     "text": [
      "Epoch 1/100\n",
      "235/235 [==============================] - 1s 2ms/step - loss: 0.5446 - accuracy: 0.7505\n",
      "Epoch 2/100\n",
      "235/235 [==============================] - 0s 2ms/step - loss: 0.4585 - accuracy: 0.8056\n",
      "Epoch 3/100\n",
      "235/235 [==============================] - 0s 2ms/step - loss: 0.4404 - accuracy: 0.8087\n",
      "Epoch 4/100\n",
      "235/235 [==============================] - 0s 2ms/step - loss: 0.4326 - accuracy: 0.8101\n",
      "Epoch 5/100\n",
      "235/235 [==============================] - 0s 2ms/step - loss: 0.4276 - accuracy: 0.8141\n",
      "Epoch 6/100\n",
      "235/235 [==============================] - 0s 2ms/step - loss: 0.4236 - accuracy: 0.8165\n",
      "Epoch 7/100\n",
      "235/235 [==============================] - 0s 2ms/step - loss: 0.4204 - accuracy: 0.8183\n",
      "Epoch 8/100\n",
      "235/235 [==============================] - 0s 2ms/step - loss: 0.4173 - accuracy: 0.8189\n",
      "Epoch 9/100\n",
      "235/235 [==============================] - 0s 2ms/step - loss: 0.4147 - accuracy: 0.8209\n",
      "Epoch 10/100\n",
      "235/235 [==============================] - 0s 2ms/step - loss: 0.4132 - accuracy: 0.8245\n",
      "Epoch 11/100\n",
      "235/235 [==============================] - 0s 2ms/step - loss: 0.4117 - accuracy: 0.8240\n",
      "Epoch 12/100\n",
      "235/235 [==============================] - 0s 2ms/step - loss: 0.4104 - accuracy: 0.8252\n",
      "Epoch 13/100\n",
      "235/235 [==============================] - 0s 2ms/step - loss: 0.4090 - accuracy: 0.8257\n",
      "Epoch 14/100\n",
      "235/235 [==============================] - 0s 2ms/step - loss: 0.4078 - accuracy: 0.8268\n",
      "Epoch 15/100\n",
      "235/235 [==============================] - 0s 2ms/step - loss: 0.4065 - accuracy: 0.8283\n",
      "Epoch 16/100\n",
      "235/235 [==============================] - 0s 2ms/step - loss: 0.4053 - accuracy: 0.8272\n",
      "Epoch 17/100\n",
      "235/235 [==============================] - 0s 2ms/step - loss: 0.4041 - accuracy: 0.8288\n",
      "Epoch 18/100\n",
      "235/235 [==============================] - 0s 2ms/step - loss: 0.4031 - accuracy: 0.8299\n",
      "Epoch 19/100\n",
      "235/235 [==============================] - 0s 2ms/step - loss: 0.4023 - accuracy: 0.8293\n",
      "Epoch 20/100\n",
      "235/235 [==============================] - 0s 2ms/step - loss: 0.4021 - accuracy: 0.8287\n",
      "Epoch 21/100\n",
      "235/235 [==============================] - 0s 2ms/step - loss: 0.4009 - accuracy: 0.8311\n",
      "Epoch 22/100\n",
      "235/235 [==============================] - 0s 2ms/step - loss: 0.4005 - accuracy: 0.8313\n",
      "Epoch 23/100\n",
      "235/235 [==============================] - 0s 2ms/step - loss: 0.4000 - accuracy: 0.8327\n",
      "Epoch 24/100\n",
      "235/235 [==============================] - 0s 2ms/step - loss: 0.3989 - accuracy: 0.8327\n",
      "Epoch 25/100\n",
      "235/235 [==============================] - 0s 2ms/step - loss: 0.3986 - accuracy: 0.8328\n",
      "Epoch 26/100\n",
      "235/235 [==============================] - 0s 2ms/step - loss: 0.3979 - accuracy: 0.8348\n",
      "Epoch 27/100\n",
      "235/235 [==============================] - 0s 2ms/step - loss: 0.3977 - accuracy: 0.8336\n",
      "Epoch 28/100\n",
      "235/235 [==============================] - 0s 2ms/step - loss: 0.3975 - accuracy: 0.8345\n",
      "Epoch 29/100\n",
      "235/235 [==============================] - 0s 2ms/step - loss: 0.3969 - accuracy: 0.8359\n",
      "Epoch 30/100\n",
      "235/235 [==============================] - 0s 2ms/step - loss: 0.3968 - accuracy: 0.8363\n",
      "Epoch 31/100\n",
      "235/235 [==============================] - 0s 2ms/step - loss: 0.3968 - accuracy: 0.8359\n",
      "Epoch 32/100\n",
      "235/235 [==============================] - 0s 2ms/step - loss: 0.3962 - accuracy: 0.8352\n",
      "Epoch 33/100\n",
      "235/235 [==============================] - 0s 2ms/step - loss: 0.3961 - accuracy: 0.8348\n",
      "Epoch 34/100\n",
      "235/235 [==============================] - 0s 2ms/step - loss: 0.3958 - accuracy: 0.8355\n",
      "Epoch 35/100\n",
      "235/235 [==============================] - 0s 2ms/step - loss: 0.3958 - accuracy: 0.8349\n",
      "Epoch 36/100\n",
      "235/235 [==============================] - 1s 2ms/step - loss: 0.3954 - accuracy: 0.8356\n",
      "Epoch 37/100\n",
      "235/235 [==============================] - 0s 2ms/step - loss: 0.3952 - accuracy: 0.8364\n",
      "Epoch 38/100\n",
      "235/235 [==============================] - 0s 2ms/step - loss: 0.3950 - accuracy: 0.8353\n",
      "Epoch 39/100\n",
      "235/235 [==============================] - 0s 2ms/step - loss: 0.3948 - accuracy: 0.8349\n",
      "Epoch 40/100\n",
      "235/235 [==============================] - 0s 2ms/step - loss: 0.3948 - accuracy: 0.8359\n",
      "Epoch 41/100\n",
      "235/235 [==============================] - 0s 2ms/step - loss: 0.3943 - accuracy: 0.8357\n",
      "Epoch 42/100\n",
      "235/235 [==============================] - 0s 2ms/step - loss: 0.3941 - accuracy: 0.8347\n",
      "Epoch 43/100\n",
      "235/235 [==============================] - 0s 2ms/step - loss: 0.3941 - accuracy: 0.8368\n",
      "Epoch 44/100\n",
      "235/235 [==============================] - 0s 2ms/step - loss: 0.3938 - accuracy: 0.8345\n",
      "Epoch 45/100\n",
      "235/235 [==============================] - 0s 2ms/step - loss: 0.3944 - accuracy: 0.8352\n",
      "Epoch 46/100\n",
      "235/235 [==============================] - 0s 2ms/step - loss: 0.3938 - accuracy: 0.8363\n",
      "Epoch 47/100\n",
      "235/235 [==============================] - 0s 2ms/step - loss: 0.3938 - accuracy: 0.8356\n",
      "Epoch 48/100\n",
      "235/235 [==============================] - 0s 2ms/step - loss: 0.3935 - accuracy: 0.8352\n",
      "Epoch 49/100\n",
      "235/235 [==============================] - 0s 2ms/step - loss: 0.3938 - accuracy: 0.8373\n",
      "Epoch 50/100\n",
      "235/235 [==============================] - 0s 2ms/step - loss: 0.3934 - accuracy: 0.8367\n",
      "Epoch 51/100\n",
      "235/235 [==============================] - 0s 2ms/step - loss: 0.3934 - accuracy: 0.8352\n",
      "Epoch 52/100\n",
      "235/235 [==============================] - 0s 2ms/step - loss: 0.3933 - accuracy: 0.8352\n",
      "Epoch 53/100\n",
      "235/235 [==============================] - 0s 2ms/step - loss: 0.3933 - accuracy: 0.8359\n",
      "Epoch 54/100\n",
      "235/235 [==============================] - 0s 2ms/step - loss: 0.3930 - accuracy: 0.8365\n",
      "Epoch 55/100\n",
      "235/235 [==============================] - 0s 2ms/step - loss: 0.3930 - accuracy: 0.8361\n",
      "Epoch 56/100\n",
      "235/235 [==============================] - 0s 2ms/step - loss: 0.3928 - accuracy: 0.8360\n",
      "Epoch 57/100\n",
      "235/235 [==============================] - 0s 2ms/step - loss: 0.3930 - accuracy: 0.8364\n",
      "Epoch 58/100\n",
      "235/235 [==============================] - 0s 2ms/step - loss: 0.3927 - accuracy: 0.8361\n",
      "Epoch 59/100\n",
      "235/235 [==============================] - 0s 2ms/step - loss: 0.3928 - accuracy: 0.8351\n",
      "Epoch 60/100\n",
      "235/235 [==============================] - 0s 2ms/step - loss: 0.3923 - accuracy: 0.8369\n",
      "Epoch 61/100\n",
      "235/235 [==============================] - 0s 2ms/step - loss: 0.3922 - accuracy: 0.8348\n",
      "Epoch 62/100\n",
      "235/235 [==============================] - 0s 2ms/step - loss: 0.3920 - accuracy: 0.8360\n",
      "Epoch 63/100\n",
      "235/235 [==============================] - 0s 2ms/step - loss: 0.3918 - accuracy: 0.8368\n",
      "Epoch 64/100\n",
      "235/235 [==============================] - 0s 2ms/step - loss: 0.3921 - accuracy: 0.8352\n",
      "Epoch 65/100\n",
      "235/235 [==============================] - 0s 2ms/step - loss: 0.3916 - accuracy: 0.8349\n",
      "Epoch 66/100\n",
      "235/235 [==============================] - 0s 2ms/step - loss: 0.3916 - accuracy: 0.8361\n",
      "Epoch 67/100\n",
      "235/235 [==============================] - 0s 2ms/step - loss: 0.3916 - accuracy: 0.8348\n",
      "Epoch 68/100\n",
      "235/235 [==============================] - 0s 2ms/step - loss: 0.3915 - accuracy: 0.8349\n",
      "Epoch 69/100\n",
      "235/235 [==============================] - 0s 2ms/step - loss: 0.3909 - accuracy: 0.8361\n",
      "Epoch 70/100\n",
      "235/235 [==============================] - 0s 2ms/step - loss: 0.3902 - accuracy: 0.8353\n",
      "Epoch 71/100\n",
      "235/235 [==============================] - 0s 2ms/step - loss: 0.3897 - accuracy: 0.8364\n",
      "Epoch 72/100\n",
      "235/235 [==============================] - 1s 2ms/step - loss: 0.3895 - accuracy: 0.8347\n",
      "Epoch 73/100\n",
      "235/235 [==============================] - 0s 2ms/step - loss: 0.3887 - accuracy: 0.8361\n",
      "Epoch 74/100\n",
      "235/235 [==============================] - 0s 2ms/step - loss: 0.3876 - accuracy: 0.8373\n",
      "Epoch 75/100\n",
      "235/235 [==============================] - 0s 2ms/step - loss: 0.3865 - accuracy: 0.8371\n",
      "Epoch 76/100\n",
      "235/235 [==============================] - 0s 2ms/step - loss: 0.3850 - accuracy: 0.8363\n",
      "Epoch 77/100\n",
      "235/235 [==============================] - 1s 4ms/step - loss: 0.3816 - accuracy: 0.8372\n",
      "Epoch 78/100\n",
      "235/235 [==============================] - 0s 2ms/step - loss: 0.3779 - accuracy: 0.8381\n",
      "Epoch 79/100\n",
      "235/235 [==============================] - 1s 3ms/step - loss: 0.3739 - accuracy: 0.8413\n",
      "Epoch 80/100\n",
      "235/235 [==============================] - 0s 2ms/step - loss: 0.3685 - accuracy: 0.8431\n",
      "Epoch 81/100\n",
      "235/235 [==============================] - 1s 4ms/step - loss: 0.3616 - accuracy: 0.8468\n",
      "Epoch 82/100\n",
      "235/235 [==============================] - 1s 4ms/step - loss: 0.3557 - accuracy: 0.8515\n",
      "Epoch 83/100\n",
      "235/235 [==============================] - 0s 2ms/step - loss: 0.3503 - accuracy: 0.8531\n",
      "Epoch 84/100\n",
      "235/235 [==============================] - 1s 3ms/step - loss: 0.3463 - accuracy: 0.8565\n",
      "Epoch 85/100\n",
      "235/235 [==============================] - 1s 3ms/step - loss: 0.3434 - accuracy: 0.8591\n",
      "Epoch 86/100\n",
      "235/235 [==============================] - 0s 2ms/step - loss: 0.3407 - accuracy: 0.8608\n",
      "Epoch 87/100\n",
      "235/235 [==============================] - 0s 2ms/step - loss: 0.3395 - accuracy: 0.8620\n",
      "Epoch 88/100\n",
      "235/235 [==============================] - 0s 2ms/step - loss: 0.3381 - accuracy: 0.8629\n",
      "Epoch 89/100\n",
      "235/235 [==============================] - 0s 2ms/step - loss: 0.3372 - accuracy: 0.8627\n",
      "Epoch 90/100\n",
      "235/235 [==============================] - 0s 2ms/step - loss: 0.3369 - accuracy: 0.8635\n",
      "Epoch 91/100\n",
      "235/235 [==============================] - 0s 2ms/step - loss: 0.3364 - accuracy: 0.8620\n",
      "Epoch 92/100\n",
      "235/235 [==============================] - 0s 2ms/step - loss: 0.3360 - accuracy: 0.8632\n",
      "Epoch 93/100\n",
      "235/235 [==============================] - 0s 2ms/step - loss: 0.3356 - accuracy: 0.8648\n",
      "Epoch 94/100\n",
      "235/235 [==============================] - 1s 2ms/step - loss: 0.3357 - accuracy: 0.8651\n",
      "Epoch 95/100\n",
      "235/235 [==============================] - 1s 2ms/step - loss: 0.3351 - accuracy: 0.8656\n",
      "Epoch 96/100\n",
      "235/235 [==============================] - 0s 2ms/step - loss: 0.3352 - accuracy: 0.8641\n",
      "Epoch 97/100\n",
      "235/235 [==============================] - 0s 2ms/step - loss: 0.3347 - accuracy: 0.8641\n",
      "Epoch 98/100\n",
      "235/235 [==============================] - 0s 2ms/step - loss: 0.3350 - accuracy: 0.8655\n",
      "Epoch 99/100\n",
      "235/235 [==============================] - 0s 2ms/step - loss: 0.3343 - accuracy: 0.8645\n",
      "Epoch 100/100\n",
      "235/235 [==============================] - 0s 2ms/step - loss: 0.3342 - accuracy: 0.8643\n"
     ]
    },
    {
     "data": {
      "text/plain": [
       "<keras.callbacks.History at 0x1b9c527a8e0>"
      ]
     },
     "execution_count": 64,
     "metadata": {},
     "output_type": "execute_result"
    }
   ],
   "source": [
    "ann.fit(Xtr,Ytr,batch_size=32,epochs=100)"
   ]
  },
  {
   "cell_type": "code",
   "execution_count": 65,
   "id": "33265d48",
   "metadata": {},
   "outputs": [
    {
     "name": "stdout",
     "output_type": "stream",
     "text": [
      "79/79 [==============================] - 0s 2ms/step\n"
     ]
    }
   ],
   "source": [
    "ypred=ann.predict(Xte)\n",
    "ypred=ypred>0.5"
   ]
  },
  {
   "cell_type": "code",
   "execution_count": 68,
   "id": "e68a3e3b",
   "metadata": {},
   "outputs": [
    {
     "name": "stdout",
     "output_type": "stream",
     "text": [
      "accuracy score =  0.8636\n"
     ]
    }
   ],
   "source": [
    "from sklearn.metrics import accuracy_score\n",
    "Yte=Yte>0.5\n",
    "ypred.flatten()\n",
    "\n",
    "print(\"accuracy score = \",accuracy_score(Yte,ypred))"
   ]
  },
  {
   "cell_type": "code",
   "execution_count": 69,
   "id": "670036a3",
   "metadata": {},
   "outputs": [
    {
     "name": "stdout",
     "output_type": "stream",
     "text": [
      "[[1917   74]\n",
      " [ 267  242]]\n"
     ]
    }
   ],
   "source": [
    "from sklearn.metrics import confusion_matrix\n",
    "cm=confusion_matrix(Yte,ypred)\n",
    "print(cm)"
   ]
  },
  {
   "cell_type": "code",
   "execution_count": null,
   "id": "d03066bd",
   "metadata": {},
   "outputs": [],
   "source": []
  }
 ],
 "metadata": {
  "kernelspec": {
   "display_name": "Python 3 (ipykernel)",
   "language": "python",
   "name": "python3"
  },
  "language_info": {
   "codemirror_mode": {
    "name": "ipython",
    "version": 3
   },
   "file_extension": ".py",
   "mimetype": "text/x-python",
   "name": "python",
   "nbconvert_exporter": "python",
   "pygments_lexer": "ipython3",
   "version": "3.9.7"
  }
 },
 "nbformat": 4,
 "nbformat_minor": 5
}
