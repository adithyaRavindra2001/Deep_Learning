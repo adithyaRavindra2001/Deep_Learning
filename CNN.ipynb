{
 "cells": [
  {
   "cell_type": "code",
   "execution_count": 17,
   "id": "742e5d53",
   "metadata": {},
   "outputs": [],
   "source": [
    "import numpy as np\n",
    "import tensorflow as tf\n",
    "from keras.preprocessing.image import ImageDataGenerator"
   ]
  },
  {
   "cell_type": "code",
   "execution_count": 18,
   "id": "50bac061",
   "metadata": {},
   "outputs": [
    {
     "name": "stdout",
     "output_type": "stream",
     "text": [
      "Found 8000 images belonging to 2 classes.\n"
     ]
    }
   ],
   "source": [
    "#Image augmentation process:\n",
    "\n",
    "train_datagen=ImageDataGenerator(rescale=1./255,shear_range=0.2,zoom_range=0.2,horizontal_flip=True)\n",
    "training_set=train_datagen.flow_from_directory('cnndata/dataset/training_set',\n",
    "                                               target_size=(64,64),\n",
    "                                               batch_size=32,\n",
    "                                               class_mode='binary'\n",
    "                                              )\n"
   ]
  },
  {
   "cell_type": "code",
   "execution_count": 19,
   "id": "85898d8e",
   "metadata": {},
   "outputs": [
    {
     "name": "stdout",
     "output_type": "stream",
     "text": [
      "Found 2000 images belonging to 2 classes.\n"
     ]
    }
   ],
   "source": [
    "test_datagen=ImageDataGenerator(rescale=1./255)\n",
    "test_set=train_datagen.flow_from_directory('cnndata/dataset/test_set',\n",
    "                                               target_size=(64,64),\n",
    "                                               batch_size=32,\n",
    "                                               class_mode='binary'\n",
    "                                              )"
   ]
  },
  {
   "cell_type": "code",
   "execution_count": 20,
   "id": "80d513a1",
   "metadata": {},
   "outputs": [],
   "source": [
    "cnn=tf.keras.models.Sequential()"
   ]
  },
  {
   "cell_type": "code",
   "execution_count": 21,
   "id": "9fa0ce5f",
   "metadata": {},
   "outputs": [],
   "source": [
    "cnn.add(tf.keras.layers.Conv2D(filters=32,kernel_size=3,activation='relu',input_shape=[64,64,3]))"
   ]
  },
  {
   "cell_type": "code",
   "execution_count": 22,
   "id": "2f3abcef",
   "metadata": {},
   "outputs": [],
   "source": [
    "cnn.add(tf.keras.layers.MaxPool2D(pool_size=2,strides=2))"
   ]
  },
  {
   "cell_type": "code",
   "execution_count": 23,
   "id": "1bd166f3",
   "metadata": {},
   "outputs": [],
   "source": [
    "cnn.add(tf.keras.layers.Conv2D(filters=32,kernel_size=3,activation='relu'))\n",
    "cnn.add(tf.keras.layers.MaxPool2D(pool_size=2,strides=2))"
   ]
  },
  {
   "cell_type": "code",
   "execution_count": 24,
   "id": "5113236c",
   "metadata": {},
   "outputs": [],
   "source": [
    "cnn.add(tf.keras.layers.Flatten())"
   ]
  },
  {
   "cell_type": "code",
   "execution_count": 25,
   "id": "cd53bf0a",
   "metadata": {},
   "outputs": [],
   "source": [
    "cnn.add(tf.keras.layers.Dense(units=128,activation='relu'))\n",
    "cnn.add(tf.keras.layers.Dense(units=1,activation='sigmoid'))"
   ]
  },
  {
   "cell_type": "code",
   "execution_count": 26,
   "id": "71e98207",
   "metadata": {},
   "outputs": [],
   "source": [
    "cnn.compile(optimizer='adam',loss='binary_crossentropy',metrics=['accuracy'])"
   ]
  },
  {
   "cell_type": "code",
   "execution_count": 30,
   "id": "d4048450",
   "metadata": {},
   "outputs": [
    {
     "name": "stdout",
     "output_type": "stream",
     "text": [
      "Epoch 1/25\n",
      "250/250 [==============================] - 193s 763ms/step - loss: 0.6707 - accuracy: 0.5688 - val_loss: 0.6109 - val_accuracy: 0.6630\n",
      "Epoch 2/25\n",
      "250/250 [==============================] - 98s 392ms/step - loss: 0.5974 - accuracy: 0.6817 - val_loss: 0.5868 - val_accuracy: 0.6965\n",
      "Epoch 3/25\n",
      "250/250 [==============================] - 97s 389ms/step - loss: 0.5552 - accuracy: 0.7159 - val_loss: 0.5610 - val_accuracy: 0.7200\n",
      "Epoch 4/25\n",
      "250/250 [==============================] - 96s 385ms/step - loss: 0.5258 - accuracy: 0.7383 - val_loss: 0.5239 - val_accuracy: 0.7345\n",
      "Epoch 5/25\n",
      "250/250 [==============================] - 96s 384ms/step - loss: 0.4936 - accuracy: 0.7592 - val_loss: 0.4993 - val_accuracy: 0.7630\n",
      "Epoch 6/25\n",
      "250/250 [==============================] - 89s 355ms/step - loss: 0.4775 - accuracy: 0.7688 - val_loss: 0.4966 - val_accuracy: 0.7670\n",
      "Epoch 7/25\n",
      "250/250 [==============================] - 73s 292ms/step - loss: 0.4646 - accuracy: 0.7757 - val_loss: 0.4930 - val_accuracy: 0.7595\n",
      "Epoch 8/25\n",
      "250/250 [==============================] - 88s 354ms/step - loss: 0.4450 - accuracy: 0.7945 - val_loss: 0.4844 - val_accuracy: 0.7745\n",
      "Epoch 9/25\n",
      "250/250 [==============================] - 150s 600ms/step - loss: 0.4312 - accuracy: 0.7986 - val_loss: 0.5556 - val_accuracy: 0.7410\n",
      "Epoch 10/25\n",
      "250/250 [==============================] - 128s 510ms/step - loss: 0.4136 - accuracy: 0.8024 - val_loss: 0.4622 - val_accuracy: 0.7890\n",
      "Epoch 11/25\n",
      "250/250 [==============================] - 104s 414ms/step - loss: 0.4017 - accuracy: 0.8145 - val_loss: 0.4837 - val_accuracy: 0.7715\n",
      "Epoch 12/25\n",
      "250/250 [==============================] - 126s 505ms/step - loss: 0.3873 - accuracy: 0.8275 - val_loss: 0.4661 - val_accuracy: 0.7880\n",
      "Epoch 13/25\n",
      "250/250 [==============================] - 103s 410ms/step - loss: 0.3730 - accuracy: 0.8289 - val_loss: 0.4583 - val_accuracy: 0.7985\n",
      "Epoch 14/25\n",
      "250/250 [==============================] - 105s 419ms/step - loss: 0.3630 - accuracy: 0.8369 - val_loss: 0.4859 - val_accuracy: 0.7835\n",
      "Epoch 15/25\n",
      "250/250 [==============================] - 102s 406ms/step - loss: 0.3469 - accuracy: 0.8461 - val_loss: 0.4750 - val_accuracy: 0.7945\n",
      "Epoch 16/25\n",
      "250/250 [==============================] - 111s 442ms/step - loss: 0.3292 - accuracy: 0.8550 - val_loss: 0.5086 - val_accuracy: 0.7915\n",
      "Epoch 17/25\n",
      "250/250 [==============================] - 132s 528ms/step - loss: 0.3183 - accuracy: 0.8596 - val_loss: 0.4841 - val_accuracy: 0.7870\n",
      "Epoch 18/25\n",
      "250/250 [==============================] - 114s 454ms/step - loss: 0.3050 - accuracy: 0.8690 - val_loss: 0.4802 - val_accuracy: 0.7960\n",
      "Epoch 19/25\n",
      "250/250 [==============================] - 124s 496ms/step - loss: 0.2958 - accuracy: 0.8724 - val_loss: 0.4943 - val_accuracy: 0.7895\n",
      "Epoch 20/25\n",
      "250/250 [==============================] - 125s 496ms/step - loss: 0.2813 - accuracy: 0.8783 - val_loss: 0.5056 - val_accuracy: 0.7825\n",
      "Epoch 21/25\n",
      "250/250 [==============================] - 117s 468ms/step - loss: 0.2739 - accuracy: 0.8886 - val_loss: 0.4887 - val_accuracy: 0.8110\n",
      "Epoch 22/25\n",
      "250/250 [==============================] - 143s 572ms/step - loss: 0.2576 - accuracy: 0.8914 - val_loss: 0.4918 - val_accuracy: 0.8050\n",
      "Epoch 23/25\n",
      "250/250 [==============================] - 120s 478ms/step - loss: 0.2420 - accuracy: 0.9010 - val_loss: 0.5099 - val_accuracy: 0.7930\n",
      "Epoch 24/25\n",
      "250/250 [==============================] - 105s 421ms/step - loss: 0.2320 - accuracy: 0.9039 - val_loss: 0.5544 - val_accuracy: 0.7910\n",
      "Epoch 25/25\n",
      "250/250 [==============================] - 107s 427ms/step - loss: 0.2210 - accuracy: 0.9044 - val_loss: 0.5329 - val_accuracy: 0.7990\n"
     ]
    },
    {
     "data": {
      "text/plain": [
       "<keras.callbacks.History at 0x23e7af6d460>"
      ]
     },
     "execution_count": 30,
     "metadata": {},
     "output_type": "execute_result"
    }
   ],
   "source": [
    "cnn.fit(x=training_set,validation_data=test_set,epochs=25)"
   ]
  },
  {
   "cell_type": "code",
   "execution_count": 42,
   "id": "0879ef43",
   "metadata": {},
   "outputs": [
    {
     "name": "stdout",
     "output_type": "stream",
     "text": [
      "1/1 [==============================] - 0s 37ms/step\n"
     ]
    }
   ],
   "source": [
    "import numpy as np\n",
    "from tensorflow.keras.utils import load_img,img_to_array\n",
    "test_image=load_img('cnndata/dataset/single_prediction/cat_or_dog_2.jpg',target_size=(64,64))\n",
    "test_image=img_to_array(test_image)\n",
    "test_image=np.expand_dims(test_image,axis=0)\n",
    "res=cnn.predict(test_image)\n",
    "training_set.class_indices\n",
    "if res[0][0]==1:\n",
    "    pred='dog'\n",
    "else:\n",
    "    pred='cat'"
   ]
  },
  {
   "cell_type": "code",
   "execution_count": 43,
   "id": "f2ef6df2",
   "metadata": {},
   "outputs": [
    {
     "name": "stdout",
     "output_type": "stream",
     "text": [
      "cat\n"
     ]
    }
   ],
   "source": [
    "print(pred)"
   ]
  },
  {
   "cell_type": "code",
   "execution_count": null,
   "id": "fcf96e8f",
   "metadata": {},
   "outputs": [],
   "source": [
    "\n",
    "    "
   ]
  },
  {
   "cell_type": "code",
   "execution_count": null,
   "id": "cd913e45",
   "metadata": {},
   "outputs": [],
   "source": []
  }
 ],
 "metadata": {
  "kernelspec": {
   "display_name": "Python 3 (ipykernel)",
   "language": "python",
   "name": "python3"
  },
  "language_info": {
   "codemirror_mode": {
    "name": "ipython",
    "version": 3
   },
   "file_extension": ".py",
   "mimetype": "text/x-python",
   "name": "python",
   "nbconvert_exporter": "python",
   "pygments_lexer": "ipython3",
   "version": "3.9.7"
  }
 },
 "nbformat": 4,
 "nbformat_minor": 5
}
